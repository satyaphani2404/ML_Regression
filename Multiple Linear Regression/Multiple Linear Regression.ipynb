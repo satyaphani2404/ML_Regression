{
 "cells": [
  {
   "cell_type": "markdown",
   "metadata": {},
   "source": [
    "# Multiple Linear Regression\n"
   ]
  },
  {
   "cell_type": "code",
   "execution_count": 1,
   "metadata": {},
   "outputs": [],
   "source": [
    "# Importing the libraries\n",
    "import numpy as np\n",
    "import matplotlib.pyplot as plt\n",
    "import pandas as pd"
   ]
  },
  {
   "cell_type": "code",
   "execution_count": 2,
   "metadata": {},
   "outputs": [],
   "source": [
    "# Importing the dataset\n",
    "dataset = pd.read_csv('carprice.csv')"
   ]
  },
  {
   "cell_type": "code",
   "execution_count": 3,
   "metadata": {},
   "outputs": [
    {
     "data": {
      "text/plain": [
       "0            alfa-romero giulia\n",
       "1           alfa-romero stelvio\n",
       "2      alfa-romero Quadrifoglio\n",
       "3                   audi 100 ls\n",
       "4                    audi 100ls\n",
       "                 ...           \n",
       "200             volvo 145e (sw)\n",
       "201                 volvo 144ea\n",
       "202                 volvo 244dl\n",
       "203                   volvo 246\n",
       "204                 volvo 264gl\n",
       "Name: CarName, Length: 205, dtype: object"
      ]
     },
     "execution_count": 3,
     "metadata": {},
     "output_type": "execute_result"
    }
   ],
   "source": [
    "# Removing few features to make the solution less complicated\n",
    "# The below features can be converted into OneHotEncoder and the results can be enhanced\n",
    "dataset.pop('fueltype')\n",
    "dataset.pop('aspiration')\n",
    "dataset.pop('drivewheel')\n",
    "dataset.pop('enginelocation')\n",
    "dataset.pop('enginetype')\n",
    "dataset.pop('fuelsystem')\n",
    "dataset.pop('CarName')"
   ]
  },
  {
   "cell_type": "code",
   "execution_count": 4,
   "metadata": {},
   "outputs": [],
   "source": [
    "#Let's simply convert these categorical to numerical's using LabelEncoder/replace functionality\n",
    "dataset['doornumber'].replace(['four','two'],[4,2],inplace=True)\n",
    "dataset['carbody'].replace(['sedan','hatchback', 'wagon', 'hardtop', 'convertible'],[1,2,3,4,5],inplace=True)\n",
    "dataset['cylindernumber'].replace(['four','six','five', 'eight', 'two', 'three', 'twelve'],[4,6,5,8,2,3,12],inplace=True)\n",
    "\n",
    "X = dataset.iloc[:, :-1].values\n",
    "y = dataset.iloc[:, -1].values\n"
   ]
  },
  {
   "cell_type": "code",
   "execution_count": 5,
   "metadata": {},
   "outputs": [],
   "source": [
    "# Splitting the dataset into the Training set and Test set\n",
    "from sklearn.model_selection import train_test_split\n",
    "X_train, X_test, y_train, y_test = train_test_split(X, y, test_size = 0.25, random_state = 0)"
   ]
  },
  {
   "cell_type": "code",
   "execution_count": 6,
   "metadata": {},
   "outputs": [
    {
     "data": {
      "text/plain": [
       "LinearRegression(copy_X=True, fit_intercept=True, n_jobs=None, normalize=False)"
      ]
     },
     "execution_count": 6,
     "metadata": {},
     "output_type": "execute_result"
    }
   ],
   "source": [
    "# Fitting Multiple Linear Regression to the Training set\n",
    "from sklearn.linear_model import LinearRegression\n",
    "regressor = LinearRegression()\n",
    "regressor.fit(X_train, y_train)"
   ]
  },
  {
   "cell_type": "code",
   "execution_count": 7,
   "metadata": {},
   "outputs": [],
   "source": [
    "# Predicting the Test set results\n",
    "y_pred = regressor.predict(X_test)"
   ]
  },
  {
   "cell_type": "code",
   "execution_count": 8,
   "metadata": {},
   "outputs": [
    {
     "data": {
      "text/plain": [
       "0.7781621059497594"
      ]
     },
     "execution_count": 8,
     "metadata": {},
     "output_type": "execute_result"
    }
   ],
   "source": [
    "# Evaluating the Model Perormance\n",
    "from sklearn.metrics import r2_score\n",
    "r2_score(y_test, y_pred)"
   ]
  },
  {
   "cell_type": "code",
   "execution_count": 9,
   "metadata": {},
   "outputs": [
    {
     "data": {
      "image/png": "[encoded data removed]",
      "text/plain": [
       "<Figure size 432x288 with 1 Axes>"
      ]
     },
     "metadata": {
      "needs_background": "light"
     },
     "output_type": "display_data"
    }
   ],
   "source": [
    "#Let's plot Actual vs Predicted\n",
    "import matplotlib.pyplot as plt\n",
    "\n",
    "fig, ax = plt.subplots()\n",
    "ax.scatter(y_test, y_pred)\n",
    "ax.plot([y_test.min(), y_test.max()], [y_test.min(), y_test.max()], 'k--', lw=4)\n",
    "ax.set_xlabel('Actual')\n",
    "ax.set_ylabel('Predicted')\n",
    "plt.show()"
   ]
  },
  {
   "cell_type": "code",
   "execution_count": 10,
   "metadata": {},
   "outputs": [
    {
     "data": {
      "text/html": [
       "<table class=\"simpletable\">\n",
       "<caption>OLS Regression Results</caption>\n",
       "<tr>\n",
       "  <th>Dep. Variable:</th>            <td>y</td>        <th>  R-squared:         </th> <td>   0.844</td>\n",
       "</tr>\n",
       "<tr>\n",
       "  <th>Model:</th>                   <td>OLS</td>       <th>  Adj. R-squared:    </th> <td>   0.837</td>\n",
       "</tr>\n",
       "<tr>\n",
       "  <th>Method:</th>             <td>Least Squares</td>  <th>  F-statistic:       </th> <td>   117.6</td>\n",
       "</tr>\n",
       "<tr>\n",
       "  <th>Date:</th>             <td>Sat, 06 Jun 2020</td> <th>  Prob (F-statistic):</th> <td>7.56e-74</td>\n",
       "</tr>\n",
       "<tr>\n",
       "  <th>Time:</th>                 <td>15:14:27</td>     <th>  Log-Likelihood:    </th> <td> -1941.7</td>\n",
       "</tr>\n",
       "<tr>\n",
       "  <th>No. Observations:</th>      <td>   205</td>      <th>  AIC:               </th> <td>   3903.</td>\n",
       "</tr>\n",
       "<tr>\n",
       "  <th>Df Residuals:</th>          <td>   195</td>      <th>  BIC:               </th> <td>   3937.</td>\n",
       "</tr>\n",
       "<tr>\n",
       "  <th>Df Model:</th>              <td>     9</td>      <th>                     </th>     <td> </td>   \n",
       "</tr>\n",
       "<tr>\n",
       "  <th>Covariance Type:</th>      <td>nonrobust</td>    <th>                     </th>     <td> </td>   \n",
       "</tr>\n",
       "</table>\n",
       "<table class=\"simpletable\">\n",
       "<tr>\n",
       "    <td></td>       <th>coef</th>     <th>std err</th>      <th>t</th>      <th>P>|t|</th>  <th>[0.025</th>    <th>0.975]</th>  \n",
       "</tr>\n",
       "<tr>\n",
       "  <th>const</th> <td>-3.969e+04</td> <td> 9827.765</td> <td>   -4.039</td> <td> 0.000</td> <td>-5.91e+04</td> <td>-2.03e+04</td>\n",
       "</tr>\n",
       "<tr>\n",
       "  <th>x1</th>    <td>  -17.5312</td> <td>    4.256</td> <td>   -4.119</td> <td> 0.000</td> <td>  -25.925</td> <td>   -9.138</td>\n",
       "</tr>\n",
       "<tr>\n",
       "  <th>x2</th>    <td>   90.7098</td> <td>  220.389</td> <td>    0.412</td> <td> 0.681</td> <td> -343.942</td> <td>  525.361</td>\n",
       "</tr>\n",
       "<tr>\n",
       "  <th>x3</th>    <td>  409.5646</td> <td>  121.405</td> <td>    3.374</td> <td> 0.001</td> <td>  170.129</td> <td>  649.000</td>\n",
       "</tr>\n",
       "<tr>\n",
       "  <th>x4</th>    <td>  109.4667</td> <td>   12.163</td> <td>    9.000</td> <td> 0.000</td> <td>   85.479</td> <td>  133.455</td>\n",
       "</tr>\n",
       "<tr>\n",
       "  <th>x5</th>    <td> 1248.2452</td> <td> 1218.819</td> <td>    1.024</td> <td> 0.307</td> <td>-1155.514</td> <td> 3652.005</td>\n",
       "</tr>\n",
       "<tr>\n",
       "  <th>x6</th>    <td>  355.6603</td> <td>   69.397</td> <td>    5.125</td> <td> 0.000</td> <td>  218.795</td> <td>  492.525</td>\n",
       "</tr>\n",
       "<tr>\n",
       "  <th>x7</th>    <td>   53.3835</td> <td>   14.965</td> <td>    3.567</td> <td> 0.000</td> <td>   23.870</td> <td>   82.897</td>\n",
       "</tr>\n",
       "<tr>\n",
       "  <th>x8</th>    <td>    1.7492</td> <td>    0.671</td> <td>    2.607</td> <td> 0.010</td> <td>    0.426</td> <td>    3.072</td>\n",
       "</tr>\n",
       "<tr>\n",
       "  <th>x9</th>    <td> -138.1570</td> <td>   66.306</td> <td>   -2.084</td> <td> 0.038</td> <td> -268.926</td> <td>   -7.388</td>\n",
       "</tr>\n",
       "</table>\n",
       "<table class=\"simpletable\">\n",
       "<tr>\n",
       "  <th>Omnibus:</th>       <td> 9.542</td> <th>  Durbin-Watson:     </th> <td>   0.985</td>\n",
       "</tr>\n",
       "<tr>\n",
       "  <th>Prob(Omnibus):</th> <td> 0.008</td> <th>  Jarque-Bera (JB):  </th> <td>  18.486</td>\n",
       "</tr>\n",
       "<tr>\n",
       "  <th>Skew:</th>          <td> 0.124</td> <th>  Prob(JB):          </th> <td>9.68e-05</td>\n",
       "</tr>\n",
       "<tr>\n",
       "  <th>Kurtosis:</th>      <td> 4.450</td> <th>  Cond. No.          </th> <td>2.25e+05</td>\n",
       "</tr>\n",
       "</table><br/><br/>Warnings:<br/>[1] Standard Errors assume that the covariance matrix of the errors is correctly specified.<br/>[2] The condition number is large, 2.25e+05. This might indicate that there are<br/>strong multicollinearity or other numerical problems."
      ],
      "text/plain": [
       "<class 'statsmodels.iolib.summary.Summary'>\n",
       "\"\"\"\n",
       "                            OLS Regression Results                            \n",
       "==============================================================================\n",
       "Dep. Variable:                      y   R-squared:                       0.844\n",
       "Model:                            OLS   Adj. R-squared:                  0.837\n",
       "Method:                 Least Squares   F-statistic:                     117.6\n",
       "Date:                Sat, 06 Jun 2020   Prob (F-statistic):           7.56e-74\n",
       "Time:                        15:14:27   Log-Likelihood:                -1941.7\n",
       "No. Observations:                 205   AIC:                             3903.\n",
       "Df Residuals:                     195   BIC:                             3937.\n",
       "Df Model:                           9                                         \n",
       "Covariance Type:            nonrobust                                         \n",
       "==============================================================================\n",
       "                 coef    std err          t      P>|t|      [0.025      0.975]\n",
       "------------------------------------------------------------------------------\n",
       "const      -3.969e+04   9827.765     -4.039      0.000   -5.91e+04   -2.03e+04\n",
       "x1           -17.5312      4.256     -4.119      0.000     -25.925      -9.138\n",
       "x2            90.7098    220.389      0.412      0.681    -343.942     525.361\n",
       "x3           409.5646    121.405      3.374      0.001     170.129     649.000\n",
       "x4           109.4667     12.163      9.000      0.000      85.479     133.455\n",
       "x5          1248.2452   1218.819      1.024      0.307   -1155.514    3652.005\n",
       "x6           355.6603     69.397      5.125      0.000     218.795     492.525\n",
       "x7            53.3835     14.965      3.567      0.000      23.870      82.897\n",
       "x8             1.7492      0.671      2.607      0.010       0.426       3.072\n",
       "x9          -138.1570     66.306     -2.084      0.038    -268.926      -7.388\n",
       "==============================================================================\n",
       "Omnibus:                        9.542   Durbin-Watson:                   0.985\n",
       "Prob(Omnibus):                  0.008   Jarque-Bera (JB):               18.486\n",
       "Skew:                           0.124   Prob(JB):                     9.68e-05\n",
       "Kurtosis:                       4.450   Cond. No.                     2.25e+05\n",
       "==============================================================================\n",
       "\n",
       "Warnings:\n",
       "[1] Standard Errors assume that the covariance matrix of the errors is correctly specified.\n",
       "[2] The condition number is large, 2.25e+05. This might indicate that there are\n",
       "strong multicollinearity or other numerical problems.\n",
       "\"\"\""
      ]
     },
     "execution_count": 10,
     "metadata": {},
     "output_type": "execute_result"
    }
   ],
   "source": [
    "#Building optimal model using Backward Elimination\n",
    "import statsmodels.api as sm\n",
    "\n",
    "X = np.append(arr = np.ones((205, 1)).astype(int), values = X, axis = 1)\n",
    "#Step 2 of backward elimination\n",
    "X_opt = X[:, [0,1,2,3,4,5,6,7,8,9,10,11,12,13,14,15,16,17, 18]]\n",
    "regressor_OLS = sm.OLS(endog = y, exog = X_opt).fit()\n",
    "regressor_OLS.summary()\n",
    "\n",
    "X_opt = X[:, [0,1,2,4,5,6,7,8,9,10,11,12,13,14,15,16,17, 18]]\n",
    "regressor_OLS = sm.OLS(endog = y, exog = X_opt).fit()\n",
    "regressor_OLS.summary()\n",
    "\n",
    "X_opt = X[:, [0,1,2,5,6,7,8,9,10,11,12,13,14,15,16,17, 18]]\n",
    "regressor_OLS = sm.OLS(endog = y, exog = X_opt).fit()\n",
    "regressor_OLS.summary()\n",
    "\n",
    "X_opt = X[:, [0,1,2,8,9,11,12,13,14,15,16,17, 18]]\n",
    "regressor_OLS = sm.OLS(endog = y, exog = X_opt).fit()\n",
    "regressor_OLS.summary()\n",
    "\n",
    "X_opt = X[:, [0,1,2,8,9,11,12,14,15,16,17]]\n",
    "regressor_OLS = sm.OLS(endog = y, exog = X_opt).fit()\n",
    "regressor_OLS.summary()\n",
    "\n",
    "X_opt = X[:, [0,1,2,8,11,12,14,15,16,17]]\n",
    "regressor_OLS = sm.OLS(endog = y, exog = X_opt).fit()\n",
    "regressor_OLS.summary()"
   ]
  }
 ],
 "metadata": {
  "kernelspec": {
   "display_name": "Python 3",
   "language": "python",
   "name": "python3"
  },
  "language_info": {
   "codemirror_mode": {
    "name": "ipython",
    "version": 3
   },
   "file_extension": ".py",
   "mimetype": "text/x-python",
   "name": "python",
   "nbconvert_exporter": "python",
   "pygments_lexer": "ipython3",
   "version": "3.7.7"
  }
 },
 "nbformat": 4,
 "nbformat_minor": 4
}
